{
 "cells": [
  {
   "cell_type": "code",
   "execution_count": 1,
   "id": "5872f02b-fee5-47fc-a333-debcd5f66c14",
   "metadata": {},
   "outputs": [],
   "source": [
    "import os\n",
    "import openai\n",
    "import sys\n",
    "\n",
    "openai.api_key  = \"\""
   ]
  },
  {
   "cell_type": "code",
   "execution_count": 2,
   "id": "92a53439-24dd-40b4-b502-6860a44cbd5b",
   "metadata": {},
   "outputs": [],
   "source": [
    "from langchain.document_loaders import PyPDFLoader, WebBaseLoader\n",
    "loaders = [\n",
    "    PyPDFLoader(\"data/canon_printer_setup_instructions.pdf\")\n",
    "]\n",
    "docs = []\n",
    "for loader in loaders:\n",
    "    docs.extend(loader.load())"
   ]
  },
  {
   "cell_type": "code",
   "execution_count": 4,
   "id": "1396800c-48ee-4578-af56-4f1d52b06659",
   "metadata": {},
   "outputs": [
    {
     "data": {
      "text/plain": [
       "Document(page_content='System Requirements\\n23ES-009\\nThe following system environment is required to install printer drivers.\\nOS ●Windows Vista\\n●Windows 7\\n●Windows 8.1\\n●Windows 10\\n●Windows Server 2008\\n●Windows Server 2008 R2 (64-bit version only)\\n●Windows Server 2012 (64-bit version only)\\n●Windows Server 2012 R2 (64-bit version only)\\n●Windows Server 2016\\nComputer A computer running one of the above operating systems\\n \\n●For information about support for the latest operating systems and service packs, visit the Canon website\\n( http://www.canon.com/  ).System Requirements\\n9', metadata={'source': 'data/canon_printer_setup_instructions.pdf', 'page': 10})"
      ]
     },
     "execution_count": 4,
     "metadata": {},
     "output_type": "execute_result"
    }
   ],
   "source": [
    "docs[10]"
   ]
  },
  {
   "cell_type": "code",
   "execution_count": 9,
   "id": "b36c5b83-ba50-4d10-b5dd-6d83fda46cab",
   "metadata": {},
   "outputs": [
    {
     "data": {
      "text/plain": [
       "169"
      ]
     },
     "execution_count": 9,
     "metadata": {},
     "output_type": "execute_result"
    }
   ],
   "source": [
    "from langchain.text_splitter import RecursiveCharacterTextSplitter\n",
    "text_splitter = RecursiveCharacterTextSplitter(\n",
    "    chunk_size = 500,\n",
    "    chunk_overlap = 100\n",
    ")\n",
    "\n",
    "splits = text_splitter.split_documents(docs)\n",
    "len(splits)"
   ]
  },
  {
   "cell_type": "code",
   "execution_count": 10,
   "id": "e838814d-6805-418b-b76d-0948c6501ab9",
   "metadata": {},
   "outputs": [],
   "source": [
    "persist_directory = 'printerdb/chroma/'"
   ]
  },
  {
   "cell_type": "code",
   "execution_count": 11,
   "id": "40328b81-e78b-4cb4-8ecd-0219d6fdf968",
   "metadata": {},
   "outputs": [
    {
     "name": "stdout",
     "output_type": "stream",
     "text": [
      "client=<openai.resources.embeddings.Embeddings object at 0x112e53350> async_client=<openai.resources.embeddings.AsyncEmbeddings object at 0x112e646e0> model='text-embedding-ada-002' dimensions=None deployment='text-embedding-ada-002' openai_api_version='' openai_api_base=None openai_api_type='' openai_proxy='' embedding_ctx_length=8191 openai_api_key=SecretStr('**********') openai_organization=None allowed_special=set() disallowed_special='all' chunk_size=1000 max_retries=2 request_timeout=None headers=None tiktoken_enabled=True tiktoken_model_name=None show_progress_bar=False model_kwargs={} skip_empty=False default_headers=None default_query=None retry_min_seconds=4 retry_max_seconds=20 http_client=None\n"
     ]
    }
   ],
   "source": [
    "from langchain_openai import OpenAIEmbeddings\n",
    "embedding = OpenAIEmbeddings(api_key=openai.api_key)\n",
    "from langchain.vectorstores import Chroma\n",
    "\n",
    "\n",
    "print(embedding)\n",
    "vectordb = Chroma.from_documents(\n",
    "    documents=splits,\n",
    "    embedding=embedding,\n",
    "    persist_directory=persist_directory\n",
    ")"
   ]
  },
  {
   "cell_type": "code",
   "execution_count": 12,
   "id": "74eb7165-6376-4161-b52a-8881c01e6fc7",
   "metadata": {},
   "outputs": [
    {
     "name": "stdout",
     "output_type": "stream",
     "text": [
      "169\n"
     ]
    }
   ],
   "source": [
    "print(vectordb._collection.count())"
   ]
  },
  {
   "cell_type": "code",
   "execution_count": 13,
   "id": "56bd365b-ddbc-4c0b-9533-f363757cf76d",
   "metadata": {},
   "outputs": [],
   "source": [
    "vectordb = Chroma(persist_directory=persist_directory, embedding_function=embedding)"
   ]
  },
  {
   "cell_type": "code",
   "execution_count": 14,
   "id": "5bdc74e6-7b1e-4aea-b1b1-512de0dd21f0",
   "metadata": {},
   "outputs": [
    {
     "name": "stdout",
     "output_type": "stream",
     "text": [
      "return_messages=True memory_key='chat_history'\n"
     ]
    }
   ],
   "source": [
    "from langchain.memory import ConversationBufferMemory\n",
    "memory = ConversationBufferMemory(\n",
    "    memory_key=\"chat_history\",\n",
    "    return_messages=True\n",
    ")\n",
    "\n",
    "print(memory)"
   ]
  },
  {
   "cell_type": "code",
   "execution_count": 15,
   "id": "5a9535fd-672a-40fc-bac6-9fbe435a3ff6",
   "metadata": {},
   "outputs": [],
   "source": [
    "from langchain_openai import ChatOpenAI\n",
    "llm = ChatOpenAI(model_name=\"gpt-3.5-turbo\", temperature=0, api_key=openai.api_key)"
   ]
  },
  {
   "cell_type": "code",
   "execution_count": 17,
   "id": "e02e118b-b141-496e-9d73-34581f1849dc",
   "metadata": {},
   "outputs": [],
   "source": [
    "from langchain.chains import ConversationalRetrievalChain\n",
    "retriever=vectordb.as_retriever()\n",
    "qa = ConversationalRetrievalChain.from_llm(\n",
    "    llm,\n",
    "    retriever=retriever,\n",
    "    memory=memory\n",
    ")"
   ]
  },
  {
   "cell_type": "code",
   "execution_count": 27,
   "id": "aba03925-1d72-4ad5-95e6-d56a2b0ed6ee",
   "metadata": {},
   "outputs": [
    {
     "data": {
      "text/plain": [
       "ConversationBufferMemory(chat_memory=ChatMessageHistory(messages=[HumanMessage(content='How far away is the sun?'), AIMessage(content=\"I don't know the answer to that question.\"), HumanMessage(content='How far away is canon?'), AIMessage(content=\"I don't know.\")]), return_messages=True, memory_key='chat_history')"
      ]
     },
     "execution_count": 27,
     "metadata": {},
     "output_type": "execute_result"
    }
   ],
   "source": [
    "memory"
   ]
  },
  {
   "cell_type": "code",
   "execution_count": null,
   "id": "8a94c336-7da7-42b9-a22b-bef08bffb4ca",
   "metadata": {},
   "outputs": [],
   "source": []
  },
  {
   "cell_type": "code",
   "execution_count": 19,
   "id": "1bdb8d23-30f0-4fd5-9c80-7acb51d290ec",
   "metadata": {},
   "outputs": [],
   "source": [
    "def question(ques: str) -> str:\n",
    "    print(qa({\"question\": ques})['answer'])"
   ]
  },
  {
   "cell_type": "code",
   "execution_count": 21,
   "id": "c82e833a-ed06-4f4b-a996-fbd7b5f3666a",
   "metadata": {},
   "outputs": [
    {
     "name": "stdout",
     "output_type": "stream",
     "text": [
      "I don't know.\n"
     ]
    }
   ],
   "source": [
    "question(\"How far away is canon?\")"
   ]
  },
  {
   "cell_type": "code",
   "execution_count": 13,
   "id": "55e51954-dccd-4f8c-9f03-97cc2593c362",
   "metadata": {},
   "outputs": [
    {
     "name": "stderr",
     "output_type": "stream",
     "text": [
      "/Library/Frameworks/Python.framework/Versions/3.12/lib/python3.12/site-packages/langchain_core/_api/deprecation.py:117: LangChainDeprecationWarning: The function `__call__` was deprecated in LangChain 0.1.0 and will be removed in 0.2.0. Use invoke instead.\n",
      "  warn_deprecated(\n"
     ]
    },
    {
     "name": "stdout",
     "output_type": "stream",
     "text": [
      "This document is a manual that provides information on how to use the manual itself, including explanations of notations used, disclaimers, copyright information, and trademarks. It is designed to guide users on how to navigate and utilize the contents effectively.\n"
     ]
    }
   ],
   "source": [
    "question(\"Summarize this document\")"
   ]
  },
  {
   "cell_type": "code",
   "execution_count": 14,
   "id": "9a62338e-845d-43c9-b46c-1b01756fcffa",
   "metadata": {},
   "outputs": [
    {
     "name": "stdout",
     "output_type": "stream",
     "text": [
      "The document is referring to a Canon printer model, but the specific model number is not provided in the context provided.\n"
     ]
    }
   ],
   "source": [
    "question(\"Is there a specific model it's talking about?\")"
   ]
  },
  {
   "cell_type": "code",
   "execution_count": 15,
   "id": "25962f4a-e24c-4d50-be53-17243338500e",
   "metadata": {},
   "outputs": [
    {
     "name": "stdout",
     "output_type": "stream",
     "text": [
      "Based on the information provided in the document, the steps to install the Canon printer model are as follows:\n",
      "\n",
      "1. Log on to the computer with an administrator account.\n",
      "2. Download the printer driver from the Canon website ( http://www.canon.com/ ).\n",
      "3. Unzip the downloaded file.\n",
      "4. Connect the printer to the computer (wired LAN, wireless LAN, or USB connection).\n",
      "5. If making a USB connection, turn OFF the printer before installing the driver.\n",
      "6. Open the Printer Status Window folder if included in the downloaded file.\n",
      "7. Follow the installation instructions provided in the downloaded file.\n",
      "\n",
      "These steps should help you install the Canon printer model successfully.\n"
     ]
    }
   ],
   "source": [
    "question(\"Give me the steps to install it\")"
   ]
  },
  {
   "cell_type": "code",
   "execution_count": 16,
   "id": "cc6ee4b0-5751-47f8-a3cc-f9c13987509d",
   "metadata": {},
   "outputs": [
    {
     "name": "stdout",
     "output_type": "stream",
     "text": [
      "The website for downloading the printer driver in Step 2 is http://www.canon.com/.\n"
     ]
    }
   ],
   "source": [
    "question(\"Where's the website for Step 2 ?\")"
   ]
  },
  {
   "cell_type": "code",
   "execution_count": 17,
   "id": "cdd3045c-db24-4836-bf31-25fbe0b36277",
   "metadata": {},
   "outputs": [
    {
     "name": "stdout",
     "output_type": "stream",
     "text": [
      "If your printer is not showing up in the list during the installation process at step 4, you may be experiencing problems with the Wired LAN/Wireless LAN Connection. You should refer to page 62 of the manual for troubleshooting steps to address this issue. Additionally, you can select the [Set Printer Information] check box, set the printer information as necessary, and click [Next] to proceed with the installation.\n"
     ]
    }
   ],
   "source": [
    "#Page 62\n",
    "question(\"I'm stuck at step 4. My printer is not showing up in the list. What do I do?\")"
   ]
  },
  {
   "cell_type": "code",
   "execution_count": 18,
   "id": "fe35605b-e066-4732-ad4c-9e676a4e4958",
   "metadata": {},
   "outputs": [
    {
     "name": "stdout",
     "output_type": "stream",
     "text": [
      "Yes, there are troubleshooting steps provided for USB connection issues during installation of the Canon printer driver. Here are some steps to troubleshoot USB connection problems:\n",
      "\n",
      "1. Ensure the printer is turned ON.\n",
      "2. Check if the printer and computer are connected correctly via a USB cable.\n",
      "3. If the printer was turned ON before installing the driver, turn OFF the printer, unplug the USB cable, and then reinstall the driver.\n",
      "4. Exchange the USB cable, especially if it's a long one, for a shorter one.\n",
      "5. If using a USB hub, connect the printer directly to the computer using a USB cable.\n",
      "6. Delete the USB class driver and then reinstall the printer driver.\n",
      "\n",
      "These steps should help troubleshoot USB connection issues during the installation of the Canon printer driver.\n"
     ]
    }
   ],
   "source": [
    "#Page 64\n",
    "question(\"I don't think my USB connection is working properly.\")"
   ]
  },
  {
   "cell_type": "code",
   "execution_count": 33,
   "id": "c5572375-30a6-4e5b-89cd-fbb598e77290",
   "metadata": {},
   "outputs": [
    {
     "name": "stdout",
     "output_type": "stream",
     "text": [
      "Using a shorter USB cable is recommended for troubleshooting USB connection issues during printer installation because longer USB cables can sometimes cause signal degradation or interference, leading to communication problems between the printer and the computer. By using a shorter USB cable, you can ensure a more stable and reliable connection, which can help resolve installation issues.\n"
     ]
    }
   ],
   "source": [
    "question(\"How does a shorter cable help?\")"
   ]
  },
  {
   "cell_type": "code",
   "execution_count": 28,
   "id": "bcd2a71a-68f9-4fd6-9328-04a82f501250",
   "metadata": {},
   "outputs": [
    {
     "ename": "ModuleNotFoundError",
     "evalue": "No module named 'utils'",
     "output_type": "error",
     "traceback": [
      "\u001b[0;31m---------------------------------------------------------------------------\u001b[0m",
      "\u001b[0;31mModuleNotFoundError\u001b[0m                       Traceback (most recent call last)",
      "Cell \u001b[0;32mIn[28], line 4\u001b[0m\n\u001b[1;32m      1\u001b[0m \u001b[38;5;28;01mimport\u001b[39;00m \u001b[38;5;21;01mpandas\u001b[39;00m \u001b[38;5;28;01mas\u001b[39;00m \u001b[38;5;21;01mpd\u001b[39;00m\n\u001b[1;32m      2\u001b[0m \u001b[38;5;28;01mimport\u001b[39;00m \u001b[38;5;21;01mtiktoken\u001b[39;00m\n\u001b[0;32m----> 4\u001b[0m \u001b[38;5;28;01mfrom\u001b[39;00m \u001b[38;5;21;01mutils\u001b[39;00m\u001b[38;5;21;01m.\u001b[39;00m\u001b[38;5;21;01membeddings_utils\u001b[39;00m \u001b[38;5;28;01mimport\u001b[39;00m get_embedding\n",
      "\u001b[0;31mModuleNotFoundError\u001b[0m: No module named 'utils'"
     ]
    }
   ],
   "source": [
    "import pandas as pd\n",
    "import tiktoken\n",
    "\n",
    "from utils.embeddings_utils import get_embedding"
   ]
  },
  {
   "cell_type": "code",
   "execution_count": null,
   "id": "c96b41b9-6519-4b28-99f5-cfebee47ff3d",
   "metadata": {},
   "outputs": [],
   "source": []
  }
 ],
 "metadata": {
  "kernelspec": {
   "display_name": "Python 3 (ipykernel)",
   "language": "python",
   "name": "python3"
  },
  "language_info": {
   "codemirror_mode": {
    "name": "ipython",
    "version": 3
   },
   "file_extension": ".py",
   "mimetype": "text/x-python",
   "name": "python",
   "nbconvert_exporter": "python",
   "pygments_lexer": "ipython3",
   "version": "3.12.2"
  }
 },
 "nbformat": 4,
 "nbformat_minor": 5
}
