{
 "cells": [
  {
   "cell_type": "markdown",
   "id": "0f5e1134-2522-4572-b207-260a3c599eb8",
   "metadata": {},
   "source": [
    "<h1>Validation of new contexts before updating the original embeddings so that the output quality of the LLM does not degrade due to hallucinations caused by irrelevant contexts.</h1>"
   ]
  },
  {
   "cell_type": "markdown",
   "id": "dab9a063-6ef5-438c-81c1-ab3e5ccd3983",
   "metadata": {},
   "source": [
    "<h2 style=\"color:red\">Importing libraries, creating the original vector store and embeddings.</h2>"
   ]
  },
  {
   "cell_type": "code",
   "execution_count": 1,
   "id": "9fddcb06-f8bb-46ac-9e8f-10a604819a42",
   "metadata": {},
   "outputs": [
    {
     "name": "stderr",
     "output_type": "stream",
     "text": [
      "USER_AGENT environment variable not set, consider setting it to identify your requests.\n"
     ]
    }
   ],
   "source": [
    "from langchain_huggingface import HuggingFaceEmbeddings\n",
    "from langchain_chroma import Chroma\n",
    "from langchain.document_loaders import PyPDFLoader, WebBaseLoader, DirectoryLoader\n",
    "from langchain_text_splitters import RecursiveCharacterTextSplitter\n",
    "from uuid import uuid4\n",
    "from langchain_community.chat_models import ChatOllama\n",
    "from langchain.prompts import ChatPromptTemplate\n",
    "from langchain.schema.runnable import RunnablePassthrough\n",
    "from langchain.schema.output_parser import StrOutputParser\n",
    "from langchain_core.documents import Document"
   ]
  },
  {
   "cell_type": "code",
   "execution_count": 2,
   "id": "17efbc92-4855-457f-bb3e-8bf606a88194",
   "metadata": {},
   "outputs": [
    {
     "name": "stderr",
     "output_type": "stream",
     "text": [
      "/Library/Frameworks/Python.framework/Versions/3.12/lib/python3.12/site-packages/sentence_transformers/cross_encoder/CrossEncoder.py:13: TqdmExperimentalWarning: Using `tqdm.autonotebook.tqdm` in notebook mode. Use `tqdm.tqdm` instead to force console mode (e.g. in jupyter console)\n",
      "  from tqdm.autonotebook import tqdm, trange\n",
      "2024-10-13 07:54:32.825649: I tensorflow/core/platform/cpu_feature_guard.cc:210] This TensorFlow binary is optimized to use available CPU instructions in performance-critical operations.\n",
      "To enable the following instructions: AVX2 FMA, in other operations, rebuild TensorFlow with the appropriate compiler flags.\n"
     ]
    }
   ],
   "source": [
    "embeddings = HuggingFaceEmbeddings(model_name=\"sentence-transformers/all-mpnet-base-v2\")\n",
    "vector_store = Chroma(\n",
    "    collection_name=\"aerospace\",\n",
    "    embedding_function=embeddings,\n",
    "    persist_directory=\"./aerospace_db\",  \n",
    ")"
   ]
  },
  {
   "cell_type": "code",
   "execution_count": 3,
   "id": "c5115392-dfa8-43a1-b4da-5bec5c2f8a7a",
   "metadata": {},
   "outputs": [],
   "source": [
    "docs = [\n",
    "    Document(\n",
    "        page_content=\"The Boeing Company is an American multinational corporation that designs, manufactures, and sells airplanes, rotorcraft, rockets, satellites, and missiles worldwide.The company also provides leasing and product support services. Boeing is among the largest global aerospace manufacturers; it is the fourth-largest defense contractor in the world based on 2022 revenue and is the largest exporter in the United States by dollar value. Boeing was founded by William Boeing in Seattle, Washington, on July 15, 1916.The present corporation is the result of the merger of Boeing with McDonnell Douglas on August 1, 1997. As of 2023, the Boeing Company's corporate headquarters is located in the Crystal City neighborhood of Arlington County, Virginia.The company is organized into three primary divisions: Boeing Commercial Airplanes (BCA), Boeing Defense, Space & Security (BDS) and Boeing Global Services (BGS). In 2021, Boeing recorded $62.3 billion in sales. Boeing is ranked 54th on the Fortune 500 list (2020), and ranked 121st on the Fortune Global 500 list (2020). On October 12, 2024 the company announced its intention to cut 17,000 jobs, about 10% of its global workforce.\"\n",
    "    ),\n",
    "    Document(\n",
    "        page_content=\"Airbus SE is a European[8] aerospace corporation. The company's primary business is the design and manufacturing of commercial aircraft but it also has separate defence and space and helicopter divisions. Since 2019, Airbus has been the world's largest manufacturer of airliners as well as the leading helicopter manufacturer.The company was incorporated as the European Aeronautic Defence and Space Company (EADS) in the year 2000 through the merger of the French Aérospatiale-Matra, the German DASA and Spanish CASA. The new entity subsequently acquired full ownership of its subsidiary, Airbus Industrie GIE, a joint venture of European aerospace companies originally incorporated in 1970 to develop and produce a wide-body aircraft to compete with American-built airliners. EADS rebranded itself as Airbus SE in 2015. Reflecting its multinational origin, the company operates major offices and assembly plants in France, Germany, Spain, and the United Kingdom, along with more recent additions in Canada, China, and the United States.Airbus' headquarters are legally registered in Leiden, Netherlands, but daily management is conducted from the company's main office located in Blagnac, France. The SE in its corporate name stands for Societas Europaea.The company is led by CEO Guillaume Faury and is a component of the EURO STOXX 50 stock market index.Since its inception in 2000, the company's shares have been listed on the Paris Stock Exchange, the Frankfurt Stock Exchange and the four regional Spanish stock exchanges (including the Bolsa de Madrid).In 2024, following similar ventures launched in Singapore and the Netherlands, Airbus announced its plans to establish a Tech Hub in Japan to foster partnerships and prepare for the next generation of aircraft.\"\n",
    "    ),\n",
    "    Document(\n",
    "        page_content=\"Pratt & Whitney is an American aerospace manufacturer with global service operations.[2] It is a subsidiary of RTX Corporation (formerly Raytheon Technologies). Pratt & Whitney's aircraft engines are widely used in both civil aviation (especially airlines) and military aviation. Its headquarters are in East Hartford, Connecticut.[3] The company is the world's second largest commercial aircraft engine manufacturer, with a 35% market share as of 2020.[4] In addition to aircraft engines, Pratt & Whitney manufactures gas turbine engines for industrial use, marine propulsion, and power generation. In 2017, the company reported that it supported more than 11,000 customers in 180 countries around the world.\"\n",
    "    )\n",
    "]\n",
    "\n",
    "uuids = [str(uuid4()) for _ in range(len(docs))]"
   ]
  },
  {
   "cell_type": "code",
   "execution_count": 4,
   "id": "252d7aa0-5141-4c52-9c8e-35d2014f09e7",
   "metadata": {},
   "outputs": [
    {
     "data": {
      "text/plain": [
       "['7ac251b4-aab9-4888-89d9-f91fe0f828d0',\n",
       " 'c53aa123-4f0a-4c41-ab5d-bc177976e26f',\n",
       " 'd8e272b0-0ddb-4565-9004-b0c38abe8403']"
      ]
     },
     "execution_count": 4,
     "metadata": {},
     "output_type": "execute_result"
    }
   ],
   "source": [
    "vector_store.add_documents(documents=docs, ids=uuids)"
   ]
  },
  {
   "cell_type": "code",
   "execution_count": 5,
   "id": "ceac01cb-3fd7-499c-8c5d-e32b82290cde",
   "metadata": {},
   "outputs": [
    {
     "name": "stdout",
     "output_type": "stream",
     "text": [
      "* [SIM=1.758190] The Boeing Company is an American multinational corporation that designs, manufactures, and sells airplanes, rotorcraft, rockets, satellites, and missiles worldwide.The company also provides leasing and product support services. Boeing is among the largest global aerospace manufacturers; it is the fourth-largest defense contractor in the world based on 2022 revenue and is the largest exporter in the United States by dollar value. Boeing was founded by William Boeing in Seattle, Washington, on July 15, 1916.The present corporation is the result of the merger of Boeing with McDonnell Douglas on August 1, 1997. As of 2023, the Boeing Company's corporate headquarters is located in the Crystal City neighborhood of Arlington County, Virginia.The company is organized into three primary divisions: Boeing Commercial Airplanes (BCA), Boeing Defense, Space & Security (BDS) and Boeing Global Services (BGS). In 2021, Boeing recorded $62.3 billion in sales. Boeing is ranked 54th on the Fortune 500 list (2020), and ranked 121st on the Fortune Global 500 list (2020). On October 12, 2024 the company announced its intention to cut 17,000 jobs, about 10% of its global workforce. [{}]\n"
     ]
    }
   ],
   "source": [
    "results = vector_store.similarity_search_with_score(\n",
    "    \"What are the documents about?\", k=1\n",
    ")\n",
    "for res, score in results:\n",
    "    print(f\"* [SIM={score:3f}] {res.page_content} [{res.metadata}]\")"
   ]
  },
  {
   "cell_type": "code",
   "execution_count": 8,
   "id": "807af25e-8f1c-4e24-9726-5d4f7baa8f94",
   "metadata": {},
   "outputs": [],
   "source": [
    "retriever = vector_store.as_retriever(search_type=\"similarity\", search_kwargs={\"k\": 5})\n",
    "\n",
    "local_llm = \"gemma2\"\n",
    "llm = ChatOllama(model=local_llm, keep_alive=\"3h\", max_tokens=512, temperature=0)\n",
    "\n",
    "template = \"\"\"Answer the question based only on the following context and extract out a meaningful answeer. \n",
    "If the context doesn't contain an answer, just respond that you are unable to find an answer.\n",
    "\n",
    "CONTEXT: {context}\n",
    "\n",
    "QUESTION: {question}\n",
    "\n",
    "ANSWER: \n",
    "\"\"\"\n",
    "\n",
    "prompt = ChatPromptTemplate.from_template(template)\n",
    "\n",
    "rag_chain = (\n",
    "    {\"context\": retriever, \"question\": RunnablePassthrough()} | prompt | llm\n",
    ")\n",
    "\n",
    "def ask_question(question):\n",
    "    print(\"Answer: \\n\\n\", end = \"\", flush = True)\n",
    "    for chunk in rag_chain.stream(question):\n",
    "        print(chunk.content, end=\"\", flush=True)\n",
    "    print(\"\\n\")"
   ]
  },
  {
   "cell_type": "code",
   "execution_count": 27,
   "id": "89aa60f0-17a4-4c49-be19-2b8d3ef7c064",
   "metadata": {},
   "outputs": [
    {
     "name": "stdout",
     "output_type": "stream",
     "text": [
      "Answer: \n",
      "\n"
     ]
    },
    {
     "name": "stderr",
     "output_type": "stream",
     "text": [
      "Number of requested results 5 is greater than number of elements in index 3, updating n_results = 3\n"
     ]
    },
    {
     "name": "stdout",
     "output_type": "stream",
     "text": [
      "Boeing is an American multinational corporation that designs, manufactures, and sells airplanes, rotorcraft, rockets, satellites, and missiles worldwide.  The company also provides leasing and product support services. \n",
      "\n",
      "\n",
      "Answer: \n",
      "\n"
     ]
    },
    {
     "name": "stderr",
     "output_type": "stream",
     "text": [
      "Number of requested results 5 is greater than number of elements in index 3, updating n_results = 3\n"
     ]
    },
    {
     "name": "stdout",
     "output_type": "stream",
     "text": [
      "I am unable to find an answer.  \n",
      "\n",
      "\n"
     ]
    }
   ],
   "source": [
    "ask_question(\"What is Boeing?\")\n",
    "ask_question(\"What kind of clothes does american eagle sell?\")"
   ]
  },
  {
   "cell_type": "markdown",
   "id": "83ee64eb-435d-4264-bb3a-43f650c006af",
   "metadata": {},
   "source": [
    "<h2 style=\"color: red\">Creating a new vector store with a completely different topic and asking the LLM to compare between the new and old embeddings.</h2>\n",
    "\n",
    "1. Amphibians (Irrelevant)\n",
    "2. Kennedy Space Center (Somewhat related but still not relevant to the original contexts)\n",
    "3. Rolls Royce Trent (Very relevant)"
   ]
  },
  {
   "cell_type": "code",
   "execution_count": 11,
   "id": "0968d8e4-89f9-4002-ae98-1f86be6e3bc8",
   "metadata": {},
   "outputs": [],
   "source": [
    "new_docs = [\n",
    "    Document(\n",
    "        page_content=\"Amphibians are ectothermic, anamniotic, four-limbed vertebrate animals that constitute the class Amphibia. In its broadest sense, it is a paraphyletic group encompassing all tetrapods excluding the amniotes (tetrapods with an amniotic membrane, such as modern reptiles, birds and mammals). All extant (living) amphibians belong to the monophyletic subclass Lissamphibia, with three living orders: Anura (frogs and toads), Urodela (salamanders), and Gymnophiona (caecilians). Evolved to be mostly semiaquatic, amphibians have adapted to inhabit a wide variety of habitats, with most species living in freshwater, wetland or terrestrial ecosystems (such as riparian woodland, fossorial and even arboreal habitats). Their life cycle typically starts out as aquatic larvae with gills known as tadpoles, but some species have developed behavioural adaptations to bypass this.\"\n",
    "    )\n",
    "]\n",
    "\n",
    "new_uuids = [str(uuid4()) for _ in range(len(new_docs))]\n",
    "\n",
    "tmp_vector_store = Chroma(\n",
    "    collection_name=\"tmp\",\n",
    "    embedding_function=embeddings,\n",
    "    persist_directory=\"./tmp_db\",  \n",
    ")\n",
    "\n",
    "tmp_vector_store.add_documents(documents=new_docs, ids=new_uuids)\n",
    "new_retriever = tmp_vector_store.as_retriever(search_type=\"similarity\", search_kwargs={\"k\": 5})"
   ]
  },
  {
   "cell_type": "code",
   "execution_count": 20,
   "id": "d71c6f44-6ddd-4e31-9b56-0fd5125de533",
   "metadata": {},
   "outputs": [],
   "source": [
    "comparison_question = \"\"\"\n",
    "    I need you to compare two contexts that are given. The original_context will be the benchmark against which the new_context must be \n",
    "    compared.\n",
    "\n",
    "    After comparison, retrieve a similarlity score between 0-100 where 0 indicates no similarity and 100 indicates highest similarity.\n",
    "    The score must be based on how related both contexts are and not the exact words. You must ignore any English stop words such as 'The', \n",
    "    'and', 'a', 'an' etc. \n",
    "\n",
    "    If the score is below 70, I need 3 reasons for the low score listed in bullet points. \n",
    "\n",
    "    original_context = {original_context}\n",
    "    new_context = {new_context}\n",
    "\n",
    "    question={question}\n",
    "    ANSWER: \n",
    "\"\"\"\n",
    "\n",
    "comparison_prompt = ChatPromptTemplate.from_template(comparison_question)\n",
    "comparison_rag_chain = ({\"original_context\": retriever, \"new_context\": new_retriever, \"question\": RunnablePassthrough()} | comparison_prompt | llm)"
   ]
  },
  {
   "cell_type": "code",
   "execution_count": 23,
   "id": "90836421-37b9-4dac-8af2-cb07cfe3227b",
   "metadata": {},
   "outputs": [],
   "source": [
    "def compare_contexts():\n",
    "    print(\"Answer: \\n\\n\", end = \"\", flush = True)\n",
    "    question=\"are both contexts talking about a similar topic?\"\n",
    "    for chunk in comparison_rag_chain.stream(question):\n",
    "        print(chunk.content, end=\"\", flush=True)\n",
    "    print(\"\\n\")"
   ]
  },
  {
   "cell_type": "code",
   "execution_count": 24,
   "id": "dd40f59b-f52b-4ae3-b259-cb3da13480ab",
   "metadata": {},
   "outputs": [
    {
     "name": "stdout",
     "output_type": "stream",
     "text": [
      "Answer: \n",
      "\n"
     ]
    },
    {
     "name": "stderr",
     "output_type": "stream",
     "text": [
      "Number of requested results 5 is greater than number of elements in index 1, updating n_results = 1\n",
      "Number of requested results 5 is greater than number of elements in index 3, updating n_results = 3\n"
     ]
    },
    {
     "name": "stdout",
     "output_type": "stream",
     "text": [
      "The similarity score between the original_context and new_context is **10**.  \n",
      "\n",
      "Here's why:\n",
      "\n",
      "* **Completely Different Topics:** The original context focuses on aerospace corporations like Airbus, Boeing, and Pratt & Whitney. The new context discusses amphibians, their biology, and life cycles. \n",
      "* **No Overlapping Concepts:** There are no shared concepts or themes between the two contexts. Aerospace manufacturing and amphibian biology are entirely distinct fields.\n",
      "* **Different Domains of Knowledge:** The information presented in each context belongs to different domains of knowledge – technology/industry versus biology/zoology.\n",
      "\n",
      "\n",
      "Let me know if you'd like to compare other contexts! \n",
      "\n",
      "\n"
     ]
    }
   ],
   "source": [
    "compare_contexts()"
   ]
  },
  {
   "cell_type": "code",
   "execution_count": 25,
   "id": "565df176-7e34-4a6d-ac97-b95e27d36c2b",
   "metadata": {},
   "outputs": [
    {
     "name": "stdout",
     "output_type": "stream",
     "text": [
      "Answer: \n",
      "\n"
     ]
    },
    {
     "name": "stderr",
     "output_type": "stream",
     "text": [
      "Number of requested results 3 is greater than number of elements in index 1, updating n_results = 1\n",
      "Number of requested results 5 is greater than number of elements in index 3, updating n_results = 3\n"
     ]
    },
    {
     "name": "stdout",
     "output_type": "stream",
     "text": [
      "The similarity score between the original_context and new_context is **45**.  \n",
      "\n",
      "Here are three reasons for the low score:\n",
      "\n",
      "* **Different Industries:** The original context focuses on aerospace manufacturing companies (Airbus, Boeing, Pratt & Whitney), while the new context discusses a space launch center (John F. Kennedy Space Center). These are related industries but have distinct areas of focus.\n",
      "* **Lack of Overlapping Entities:** There are no common companies or individuals mentioned in both contexts. \n",
      "* **Different Scope:** The original context provides information about the history, operations, and market position of aerospace manufacturers. The new context focuses on a specific space launch center's role in American spaceflight history and its relationship with other entities. \n",
      "\n",
      "\n",
      "Let me know if you have any other contexts you'd like me to compare! \n",
      "\n",
      "\n"
     ]
    }
   ],
   "source": [
    "new_docs_2 = [\n",
    "    Document(\n",
    "        page_content=\"The John F. Kennedy Space Center (KSC, originally known as the NASA Launch Operations Center), located on Merritt Island, Florida, is one of the National Aeronautics and Space Administration's (NASA) ten field centers. Since 1968, KSC has been NASA's primary launch center of American spaceflight, research, and technology. Launch operations for the Apollo, Skylab and Space Shuttle programs were carried out from Kennedy Space Center Launch Complex 39 and managed by KSC.[4] Located on the east coast of Florida, KSC is adjacent to Cape Canaveral Space Force Station (CCSFS). The management of the two entities work very closely together, share resources, and operate facilities on each other's property.Though the first Apollo flights and all Project Mercury and Project Gemini flights took off from the then-Cape Canaveral Air Force Station, the launches were managed by KSC and its previous organization, the Launch Operations Directorate.[5][6] Starting with the fourth Gemini mission, the NASA launch control center in Florida (Mercury Control Center, later the Launch Control Center) began handing off control of the vehicle to the Mission Control Center in Houston, shortly after liftoff; in prior missions it held control throughout the entire mission.\"\n",
    "    )\n",
    "]\n",
    "\n",
    "new_uuids_2 = [str(uuid4()) for _ in range(len(new_docs_2))]\n",
    "\n",
    "tmp_vector_store_2 = Chroma(\n",
    "    collection_name=\"tmp_2\",\n",
    "    embedding_function=embeddings,\n",
    "    persist_directory=\"./tmp_2_db\",  \n",
    ")\n",
    "\n",
    "tmp_vector_store_2.add_documents(documents=new_docs_2, ids=new_uuids_2)\n",
    "new_retriever_2 = tmp_vector_store_2.as_retriever(search_type=\"similarity\", search_kwargs={\"k\": 3})\n",
    "comparison_rag_chain_2 = ({\"original_context\": retriever, \"new_context\": new_retriever_2, \"question\": RunnablePassthrough()} | comparison_prompt | llm)\n",
    "\n",
    "\n",
    "def compare_contexts_2():\n",
    "    print(\"Answer: \\n\\n\", end = \"\", flush = True)\n",
    "    question=\"are both contexts talking about a similar topic?\"\n",
    "    for chunk in comparison_rag_chain_2.stream(question):\n",
    "        print(chunk.content, end=\"\", flush=True)\n",
    "    print(\"\\n\")\n",
    "\n",
    "compare_contexts_2()"
   ]
  },
  {
   "cell_type": "code",
   "execution_count": 26,
   "id": "a02ae169-72ae-4c59-9736-d87797daee7b",
   "metadata": {},
   "outputs": [
    {
     "name": "stdout",
     "output_type": "stream",
     "text": [
      "Answer: \n",
      "\n"
     ]
    },
    {
     "name": "stderr",
     "output_type": "stream",
     "text": [
      "Number of requested results 3 is greater than number of elements in index 1, updating n_results = 1\n",
      "Number of requested results 5 is greater than number of elements in index 3, updating n_results = 3\n"
     ]
    },
    {
     "name": "stdout",
     "output_type": "stream",
     "text": [
      "## Similarity Score: 85\n",
      "\n",
      "**Reasoning:** Both contexts discuss prominent aerospace companies and their products.  The original context focuses on major aircraft manufacturers like Airbus, Boeing, while the new context delves into Rolls-Royce's Trent engine family, a crucial component in many commercial aircraft.  \n",
      "\n",
      "While not directly comparing companies, both contexts highlight key players and innovations within the aerospace industry.\n",
      "\n",
      "\n",
      "Let me know if you'd like to compare other contexts! \n",
      "\n",
      "\n"
     ]
    }
   ],
   "source": [
    "new_docs_3 = [\n",
    "    Document(\n",
    "        page_content=\"The Rolls-Royce Trent is a family of high-bypass turbofans produced by Rolls-Royce. It continues the three spool architecture of the RB211 with a maximum thrust ranging from 61,900 to 97,000 lbf (275 to 431 kN). Launched as the RB-211-524L in June 1988, the prototype first ran in August 1990. Its first variant is the Trent 700 introduced on the Airbus A330 in March 1995, then the Trent 800 for the Boeing 777 (1996), the Trent 500 for the A340 (2002), the Trent 900 for the A380 (2007), the Trent 1000 for the Boeing 787 (2011), the Trent XWB for the A350 (2015), and the Trent 7000 for the A330neo (2018). It has also marine and industrial variants like the RR MT30.\"\n",
    "    )\n",
    "]\n",
    "\n",
    "new_uuids_3 = [str(uuid4()) for _ in range(len(new_docs_3))]\n",
    "\n",
    "tmp_vector_store_3 = Chroma(\n",
    "    collection_name=\"tmp_3\",\n",
    "    embedding_function=embeddings,\n",
    "    persist_directory=\"./tmp_3_db\",  \n",
    ")\n",
    "\n",
    "tmp_vector_store_3.add_documents(documents=new_docs_3, ids=new_uuids_3)\n",
    "new_retriever_3 = tmp_vector_store_3.as_retriever(search_type=\"similarity\", search_kwargs={\"k\": 3})\n",
    "comparison_rag_chain_3 = ({\"original_context\": retriever, \"new_context\": new_retriever_3, \"question\": RunnablePassthrough()} | comparison_prompt | llm)\n",
    "\n",
    "\n",
    "def compare_contexts_3():\n",
    "    print(\"Answer: \\n\\n\", end = \"\", flush = True)\n",
    "    question=\"are both contexts talking about a similar topic?\"\n",
    "    for chunk in comparison_rag_chain_3.stream(question):\n",
    "        print(chunk.content, end=\"\", flush=True)\n",
    "    print(\"\\n\")\n",
    "\n",
    "compare_contexts_3()"
   ]
  }
 ],
 "metadata": {
  "kernelspec": {
   "display_name": "Python 3 (ipykernel)",
   "language": "python",
   "name": "python3"
  },
  "language_info": {
   "codemirror_mode": {
    "name": "ipython",
    "version": 3
   },
   "file_extension": ".py",
   "mimetype": "text/x-python",
   "name": "python",
   "nbconvert_exporter": "python",
   "pygments_lexer": "ipython3",
   "version": "3.12.2"
  }
 },
 "nbformat": 4,
 "nbformat_minor": 5
}
